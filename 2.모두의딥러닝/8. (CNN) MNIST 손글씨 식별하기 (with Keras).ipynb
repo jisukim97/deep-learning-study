{
 "cells": [
  {
   "cell_type": "markdown",
   "metadata": {},
   "source": [
    "## 딥러닝 활용 (1)\n",
    "### : CNN익히기 with MNIST 손글씨 인식\n",
    "\n",
    "### >> Step1. 데이터 전처리"
   ]
  },
  {
   "cell_type": "code",
   "execution_count": 1,
   "metadata": {},
   "outputs": [
    {
     "name": "stdout",
     "output_type": "stream",
     "text": [
      "Downloading data from https://storage.googleapis.com/tensorflow/tf-keras-datasets/mnist.npz\n",
      "11493376/11490434 [==============================] - 1s 0us/step\n"
     ]
    }
   ],
   "source": [
    "from keras.datasets import mnist\n",
    "\n",
    "(X_train, Y_class_train),(X_test, Y_class_test) = mnist.load_data()"
   ]
  },
  {
   "cell_type": "code",
   "execution_count": 8,
   "metadata": {},
   "outputs": [
    {
     "data": {
      "image/png": "[encoded data removed]",
      "text/plain": [
       "<Figure size 432x288 with 1 Axes>"
      ]
     },
     "metadata": {
      "needs_background": "light"
     },
     "output_type": "display_data"
    }
   ],
   "source": [
    "#한 글자만 불러와보기\n",
    "import matplotlib.pyplot as plt\n",
    "\n",
    "plt.imshow(X_train[12], cmap='Greys')\n",
    "plt.show()"
   ]
  },
  {
   "cell_type": "code",
   "execution_count": 9,
   "metadata": {},
   "outputs": [],
   "source": [
    "#2차원 배열 1차원 값으로 만들기\n",
    "X_train = X_train.reshape(X_train.shape[0], 784) #X_train.shape[0]은 총 학습 데이터의 개수\n",
    "\n",
    "#Data normaliztion : Keras의 입력값은 0~1의 값이 좋다\n",
    "X_train = X_train.astype('float64')\n",
    "X_train = X_train / 255\n",
    "\n",
    "X_test = X_test.reshape(X_test.shape[0], 784).astype('float64') / 255"
   ]
  },
  {
   "cell_type": "code",
   "execution_count": 17,
   "metadata": {},
   "outputs": [],
   "source": [
    "#Y의 클래스에 원 핫 인코딩 적용 하기\n",
    "from keras.utils import np_utils\n",
    "\n",
    "Y_train = np_utils.to_categorical(Y_class_train, 10)\n",
    "Y_test = np_utils.to_categorical(Y_class_test, 10)"
   ]
  },
  {
   "cell_type": "markdown",
   "metadata": {},
   "source": [
    "###  >> Step2. 딥러닝 기본 프레임 워크 만들기"
   ]
  },
  {
   "cell_type": "code",
   "execution_count": 40,
   "metadata": {
    "scrolled": true
   },
   "outputs": [],
   "source": [
    "from keras.models import Sequential\n",
    "from keras.layers import Dense\n",
    "from keras.callbacks import ModelCheckpoint, EarlyStopping\n",
    "\n",
    "import matplotlib.pyplot as plt\n",
    "import numpy as np\n",
    "import os\n",
    "import tensorflow as tf\n",
    "\n",
    "seed = 0\n",
    "np.random.seed(seed)\n",
    "tf.random.set_seed(3)\n",
    "\n",
    "# train set, test set나누고 데이터 전처리\n",
    "(X_train, Y_train),(X_test, Y_test) = mnist.load_data()\n",
    "\n",
    "X_train = X_train.reshape(X_train.shape[0], 784).astype('float64') / 255\n",
    "X_test = X_test.reshape(X_test.shape[0], 784).astype('float64') / 255\n",
    "\n",
    "Y_train = np_utils.to_categorical(Y_train,10)\n",
    "Y_test = np_utils.to_categorical(Y_test, 10)\n",
    "\n",
    "\n",
    "#모델 프레임 설정\n",
    "model = Sequential()\n",
    "model.add(Dense(512, input_dim=784, activation='relu'))\n",
    "model.add(Dense(10, activation='softmax'))\n",
    "\n",
    "#모델 실행 환경 설정\n",
    "model.compile(loss='categorical_crossentropy', optimizer=\"adam\", metrics=['accuracy'])"
   ]
  },
  {
   "cell_type": "code",
   "execution_count": 41,
   "metadata": {},
   "outputs": [
    {
     "name": "stdout",
     "output_type": "stream",
     "text": [
      "\n",
      "Epoch 00001: val_loss improved from inf to 0.14746, saving model to ./mnist_model/01-0.1475.hdf5\n",
      "\n",
      "Epoch 00002: val_loss improved from 0.14746 to 0.10214, saving model to ./mnist_model/02-0.1021.hdf5\n",
      "\n",
      "Epoch 00003: val_loss improved from 0.10214 to 0.08899, saving model to ./mnist_model/03-0.0890.hdf5\n",
      "\n",
      "Epoch 00004: val_loss improved from 0.08899 to 0.07861, saving model to ./mnist_model/04-0.0786.hdf5\n",
      "\n",
      "Epoch 00005: val_loss improved from 0.07861 to 0.07415, saving model to ./mnist_model/05-0.0742.hdf5\n",
      "\n",
      "Epoch 00006: val_loss improved from 0.07415 to 0.06754, saving model to ./mnist_model/06-0.0675.hdf5\n",
      "\n",
      "Epoch 00007: val_loss improved from 0.06754 to 0.06505, saving model to ./mnist_model/07-0.0651.hdf5\n",
      "\n",
      "Epoch 00008: val_loss improved from 0.06505 to 0.06265, saving model to ./mnist_model/08-0.0627.hdf5\n",
      "\n",
      "Epoch 00009: val_loss did not improve from 0.06265\n",
      "\n",
      "Epoch 00010: val_loss did not improve from 0.06265\n",
      "\n",
      "Epoch 00011: val_loss did not improve from 0.06265\n",
      "\n",
      "Epoch 00012: val_loss did not improve from 0.06265\n",
      "\n",
      "Epoch 00013: val_loss improved from 0.06265 to 0.05998, saving model to ./mnist_model/13-0.0600.hdf5\n",
      "\n",
      "Epoch 00014: val_loss did not improve from 0.05998\n",
      "\n",
      "Epoch 00015: val_loss did not improve from 0.05998\n",
      "\n",
      "Epoch 00016: val_loss did not improve from 0.05998\n",
      "\n",
      "Epoch 00017: val_loss did not improve from 0.05998\n",
      "\n",
      "Epoch 00018: val_loss did not improve from 0.05998\n",
      "\n",
      "Epoch 00019: val_loss did not improve from 0.05998\n",
      "\n",
      "Epoch 00020: val_loss did not improve from 0.05998\n",
      "\n",
      "Epoch 00021: val_loss did not improve from 0.05998\n",
      "\n",
      "Epoch 00022: val_loss did not improve from 0.05998\n",
      "\n",
      "Epoch 00023: val_loss did not improve from 0.05998\n",
      "313/313 [==============================] - 0s 2ms/step - loss: 0.0657 - accuracy: 0.9833\n",
      "\n",
      " Test Accuracy: 0.9833\n"
     ]
    },
    {
     "data": {
      "image/png": "[encoded data removed]",
      "text/plain": [
       "<Figure size 432x288 with 1 Axes>"
      ]
     },
     "metadata": {
      "needs_background": "light"
     },
     "output_type": "display_data"
    }
   ],
   "source": [
    "#모델 최적화 설정\n",
    "MODEL_DIR = './mnist_model'\n",
    "if not os.path.exists(MODEL_DIR):\n",
    "    os.mkdir(MODEL_DIR)\n",
    "    \n",
    "modelpath=\"./mnist_model/{epoch:02d}-{val_loss:.4f}.hdf5\"\n",
    "checkpointer= ModelCheckpoint(filepath=modelpath, monitor='val_loss', verbose=1, save_best_only=True)\n",
    "early_stopping_callback = EarlyStopping(monitor='val_loss', patience=10)\n",
    "\n",
    "#모델 실행\n",
    "history = model.fit(X_train, Y_train, validation_data=(X_test, Y_test), epochs=30, batch_size=200, verbose=0, callbacks=[early_stopping_callback, checkpointer])\n",
    "\n",
    "#테스트정확도 출력\n",
    "print(\"\\n Test Accuracy: %.4f\"%(model.evaluate(X_test, Y_test)[1]))\n",
    "\n",
    "#테스트 셋의 오차\n",
    "y_vloss = history.history['val_loss']\n",
    "#학습 셋의 오차\n",
    "y_loss = history.history['loss']\n",
    "\n",
    "#그래프로 표현\n",
    "x_len = np.arange(len(y_loss))\n",
    "plt.plot(x_len, y_vloss, marker=\".\",c=\"red\", label = \"Testset_loss\")\n",
    "plt.plot(x_len, y_loss, marker=\".\",c=\"blue\", label = \"Trainset_loss\")\n",
    "\n",
    "#그래프에 그리드를 주고 레이블을 표시\n",
    "plt.legend(loc='upper right')\n",
    "plt.xlabel('epoch')\n",
    "plt.ylabel('loss')\n",
    "plt.show()"
   ]
  },
  {
   "cell_type": "markdown",
   "metadata": {},
   "source": [
    "## CNN: Conventional Neural Network "
   ]
  },
  {
   "cell_type": "code",
   "execution_count": 38,
   "metadata": {},
   "outputs": [],
   "source": [
    "from keras.datasets import mnist\n",
    "from keras.utils import np_utils\n",
    "from keras.models import Sequential\n",
    "from keras.layers import Dense, Dropout, Flatten, Conv2D, MaxPooling2D\n",
    "from keras.callbacks import ModelCheckpoint, EarlyStopping\n",
    "\n",
    "import matplotlib.pyplot as plt\n",
    "import numpy as np\n",
    "import os\n",
    "import tensorflow as tf\n",
    "\n",
    "seed = 0\n",
    "np.random.seed(seed)\n",
    "tf.random.set_seed(3)\n",
    "\n",
    "# train set, test set나누고 데이터 전처리\n",
    "(X_train, Y_train),(X_test, Y_test) = mnist.load_data()\n",
    "\n",
    "X_train = X_train.reshape(X_train.shape[0], 28,28,1).astype('float64') / 255\n",
    "X_test = X_test.reshape(X_test.shape[0], 28,28,1).astype('float64') / 255\n",
    "\n",
    "Y_train = np_utils.to_categorical(Y_train,10)\n",
    "Y_test = np_utils.to_categorical(Y_test, 10)\n",
    "\n",
    "\n",
    "#컨볼루션 신경망 설정\n",
    "model = Sequential()\n",
    "model.add(Conv2D(32,kernel_size=(3,3), input_shape=(28,28,1), activation='relu'))\n",
    "model.add(Conv2D(64, (3,3), activation='relu'))\n",
    "model.add(MaxPooling2D(pool_size=2))\n",
    "model.add(Dropout(0.25))\n",
    "model.add(Flatten())\n",
    "model.add(Dense(128,activation='relu'))\n",
    "model.add(Dropout(0.5))\n",
    "model.add(Dense(10,activation='softmax'))\n",
    "\n",
    "model.compile(loss='categorical_crossentropy', optimizer=\"adam\", metrics=['accuracy'])"
   ]
  },
  {
   "cell_type": "code",
   "execution_count": 39,
   "metadata": {
    "scrolled": true
   },
   "outputs": [
    {
     "name": "stdout",
     "output_type": "stream",
     "text": [
      "\n",
      "Epoch 00001: val_loss improved from inf to 0.05428, saving model to ./mnist_model/01-0.0543.hdf5\n",
      "\n",
      "Epoch 00002: val_loss improved from 0.05428 to 0.03938, saving model to ./mnist_model/02-0.0394.hdf5\n",
      "\n",
      "Epoch 00003: val_loss improved from 0.03938 to 0.03696, saving model to ./mnist_model/03-0.0370.hdf5\n",
      "\n",
      "Epoch 00004: val_loss improved from 0.03696 to 0.03236, saving model to ./mnist_model/04-0.0324.hdf5\n",
      "\n",
      "Epoch 00005: val_loss improved from 0.03236 to 0.03097, saving model to ./mnist_model/05-0.0310.hdf5\n",
      "\n",
      "Epoch 00006: val_loss improved from 0.03097 to 0.02937, saving model to ./mnist_model/06-0.0294.hdf5\n",
      "\n",
      "Epoch 00007: val_loss did not improve from 0.02937\n",
      "\n",
      "Epoch 00008: val_loss did not improve from 0.02937\n",
      "\n",
      "Epoch 00009: val_loss did not improve from 0.02937\n",
      "\n",
      "Epoch 00010: val_loss did not improve from 0.02937\n",
      "\n",
      "Epoch 00011: val_loss improved from 0.02937 to 0.02764, saving model to ./mnist_model/11-0.0276.hdf5\n",
      "\n",
      "Epoch 00012: val_loss did not improve from 0.02764\n",
      "\n",
      "Epoch 00013: val_loss improved from 0.02764 to 0.02629, saving model to ./mnist_model/13-0.0263.hdf5\n",
      "\n",
      "Epoch 00014: val_loss did not improve from 0.02629\n",
      "\n",
      "Epoch 00015: val_loss did not improve from 0.02629\n",
      "\n",
      "Epoch 00016: val_loss did not improve from 0.02629\n",
      "\n",
      "Epoch 00017: val_loss did not improve from 0.02629\n",
      "\n",
      "Epoch 00018: val_loss did not improve from 0.02629\n",
      "\n",
      "Epoch 00019: val_loss did not improve from 0.02629\n",
      "\n",
      "Epoch 00020: val_loss did not improve from 0.02629\n",
      "\n",
      "Epoch 00021: val_loss did not improve from 0.02629\n",
      "\n",
      "Epoch 00022: val_loss did not improve from 0.02629\n",
      "\n",
      "Epoch 00023: val_loss did not improve from 0.02629\n",
      "313/313 [==============================] - 3s 10ms/step - loss: 0.0272 - accuracy: 0.9937\n",
      "\n",
      " Test Accuracy: 0.9937\n"
     ]
    },
    {
     "data": {
      "image/png": "[encoded data removed]",
      "text/plain": [
       "<Figure size 432x288 with 1 Axes>"
      ]
     },
     "metadata": {
      "needs_background": "light"
     },
     "output_type": "display_data"
    }
   ],
   "source": [
    "#모델 최적화 설정\n",
    "MODEL_DIR = './mnist_model'\n",
    "if not os.path.exists(MODEL_DIR):\n",
    "    os.mkdir(MODEL_DIR)\n",
    "    \n",
    "modelpath=\"./mnist_model/{epoch:02d}-{val_loss:.4f}.hdf5\"\n",
    "checkpointer= ModelCheckpoint(filepath=modelpath, monitor='val_loss', verbose=1, save_best_only=True)\n",
    "early_stopping_callback = EarlyStopping(monitor='val_loss', patience=10)\n",
    "\n",
    "#모델 실행\n",
    "history = model.fit(X_train, Y_train, validation_data=(X_test, Y_test), epochs=30, batch_size=200, verbose=0, callbacks=[early_stopping_callback, checkpointer])\n",
    "\n",
    "#테스트정확도 출력\n",
    "print(\"\\n Test Accuracy: %.4f\"%(model.evaluate(X_test, Y_test)[1]))\n",
    "\n",
    "#테스트 셋의 오차\n",
    "y_vloss = history.history['val_loss']\n",
    "#학습 셋의 오차\n",
    "y_loss = history.history['loss']\n",
    "\n",
    "#그래프로 표현\n",
    "x_len = np.arange(len(y_loss))\n",
    "plt.plot(x_len, y_vloss, marker=\".\",c=\"red\", label = \"Testset_loss\")\n",
    "plt.plot(x_len, y_loss, marker=\".\",c=\"blue\", label = \"Trainset_loss\")\n",
    "\n",
    "#그래프에 그리드를 주고 레이블을 표시\n",
    "plt.legend(loc='upper right')\n",
    "plt.xlabel('epoch')\n",
    "plt.ylabel('loss')\n",
    "plt.show()"
   ]
  },
  {
   "cell_type": "code",
   "execution_count": null,
   "metadata": {},
   "outputs": [],
   "source": []
  }
 ],
 "metadata": {
  "kernelspec": {
   "display_name": "Python 3",
   "language": "python",
   "name": "python3"
  },
  "language_info": {
   "codemirror_mode": {
    "name": "ipython",
    "version": 3
   },
   "file_extension": ".py",
   "mimetype": "text/x-python",
   "name": "python",
   "nbconvert_exporter": "python",
   "pygments_lexer": "ipython3",
   "version": "3.7.6"
  }
 },
 "nbformat": 4,
 "nbformat_minor": 4
}
