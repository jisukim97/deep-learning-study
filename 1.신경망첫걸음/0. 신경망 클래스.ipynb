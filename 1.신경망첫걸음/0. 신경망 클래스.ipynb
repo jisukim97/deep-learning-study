{
 "cells": [
  {
   "cell_type": "code",
   "execution_count": 35,
   "metadata": {},
   "outputs": [],
   "source": [
    " class neuralNetwork:\n",
    "        def __init__(self, inputnodes, hiddennodes, outputnodes, learningrate):\n",
    "            #입력, 은닉, 출력 계층의 노드 개수 설정\n",
    "            self.inodes = inputnodes\n",
    "            self.hnodes = hiddennodes\n",
    "            self.onodes = outputnodes\n",
    "            \n",
    "            #학습률\n",
    "            self.lr = learningrate\n",
    "            \n",
    "            #가중치 행렬 초기화 - 정교하게 with 정규분포\n",
    "            self.wih = np.random.normal(0.0, pow(self.hnodes, -0.5), (self.hnodes, self.inodes))\n",
    "            self.who = np.random.normal(0.0, pow(self.onodes, -0.5), (self.onodes, self.hnodes))\n",
    "            \n",
    "            #활성화 함수로 시그모이드 함수 활용\n",
    "            self.activaton_function = lambda x: scipy.special.expit(x)\n",
    "            \n",
    "        def train(self, inputs_list, targets_list):\n",
    "            # < 1: 주어진 학습데이터에 대해 결과 값 계산 >\n",
    "            #입력 리스트를 2차원 행렬로 변환\n",
    "            inputs = np.array(inputs_list, ndmin=2).T\n",
    "            targets = np.array(targets_list, ndmin=2).T\n",
    "            \n",
    "            #hidden layer로 들어오고/나가는 신호 계산\n",
    "            hidden_inputs = np.dot(self.wih, inputs)\n",
    "            hidden_outputs = self.activation_function(hidden_inputs)\n",
    "            \n",
    "            #output layer로 들어오고/나가는 신호 계산\n",
    "            final_inputs = np.dot(self.who, hidden_outputs)\n",
    "            final_outputs = self.activation_function(final_inputs)\n",
    "            \n",
    "            \n",
    "            #< 2: 1의 값과 실제값을 비교해서 error를 가중치 업데이트에 이용 >\n",
    "            # outputlayer의 오차는 (실제값 - 계산값)\n",
    "            output_errors = targets - final_outputs\n",
    "            #hidden layer의 오차는 가중치에 이해 나뉜 output layer의 오차를 재조합해 계산\n",
    "            hidden_errors = np.dot(self.who.T, output_errors)\n",
    "            \n",
    "            #hidden layer와 output layer간의 가중치 업데이트\n",
    "            self.who += self.lr*np.dot((output_errors*final_outputs*(1.0-final_outputs)), np.transpose(hidden_outputs))\n",
    "            self.wih += self.lr*np.dot((hidden_errors*hidden_outputs*(1.0-hidden_outputs)), np.transpose(inputs))\n",
    "            \n",
    "            \n",
    "        def query(self, inputs_list):\n",
    "            #입력 리스트를 2차원 행렬로 변환\n",
    "            inputs = np.array(inputs_list, ndmin=2).T\n",
    "            \n",
    "            #hidden layer로 들어오는 신호 계산\n",
    "            hidden_inputs = np.dot(self.wih, inputs)\n",
    "            #hidden layer에서 나가는 신호 계산\n",
    "            hidden_outputs = self.activaton_function(hidden_inputs)\n",
    "            \n",
    "            #output layer로 들어오는 신호를 계산\n",
    "            final_inputs = np.dot(self.who, hidden_outputs)\n",
    "            #output layer에서 나가는 신호계산\n",
    "            final_outputs = self.activaton_function(final_inputs)\n",
    "            \n",
    "            return final_outputs"
   ]
  },
  {
   "cell_type": "code",
   "execution_count": 36,
   "metadata": {},
   "outputs": [],
   "source": [
    "import numpy as np\n",
    "import scipy.special"
   ]
  },
  {
   "cell_type": "code",
   "execution_count": 37,
   "metadata": {},
   "outputs": [],
   "source": [
    "input_nodes = 3\n",
    "hidden_nodes = 3\n",
    "output_nodes = 3\n",
    "learning_rate = 0.3\n",
    "\n",
    "n = neuralNetwork(input_nodes, hidden_nodes, output_nodes, learning_rate)"
   ]
  },
  {
   "cell_type": "code",
   "execution_count": 38,
   "metadata": {},
   "outputs": [
    {
     "data": {
      "text/plain": [
       "array([[0.40555114],\n",
       "       [0.28048463],\n",
       "       [0.84220891]])"
      ]
     },
     "execution_count": 38,
     "metadata": {},
     "output_type": "execute_result"
    }
   ],
   "source": [
    "n.query([1.0,2.0,9])"
   ]
  }
 ],
 "metadata": {
  "kernelspec": {
   "display_name": "Python 3",
   "language": "python",
   "name": "python3"
  },
  "language_info": {
   "codemirror_mode": {
    "name": "ipython",
    "version": 3
   },
   "file_extension": ".py",
   "mimetype": "text/x-python",
   "name": "python",
   "nbconvert_exporter": "python",
   "pygments_lexer": "ipython3",
   "version": "3.7.6"
  }
 },
 "nbformat": 4,
 "nbformat_minor": 4
}
