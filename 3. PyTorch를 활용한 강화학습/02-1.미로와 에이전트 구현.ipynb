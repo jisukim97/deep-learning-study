{
 "cells": [
  {
   "cell_type": "code",
   "execution_count": 1,
   "metadata": {},
   "outputs": [],
   "source": [
    "import numpy as np\n",
    "import matplotlib.pyplot as plt"
   ]
  },
  {
   "cell_type": "markdown",
   "metadata": {},
   "source": [
    "### 미로 구현\n",
    "초기상태"
   ]
  },
  {
   "cell_type": "code",
   "execution_count": 11,
   "metadata": {},
   "outputs": [
    {
     "data": {
      "image/png": "[encoded data removed]",
      "text/plain": [
       "<Figure size 360x360 with 1 Axes>"
      ]
     },
     "metadata": {},
     "output_type": "display_data"
    }
   ],
   "source": [
    "fig = plt.figure(figsize=(5,5))\n",
    "ax = plt.gca()\n",
    "\n",
    "#붉은 벽 그리기\n",
    "plt.plot([1,1],[0,1], color='red', linewidth=2)\n",
    "plt.plot([1,2],[2,2], color='red', linewidth=2)\n",
    "plt.plot([2,2],[2,1], color='red', linewidth=2)\n",
    "plt.plot([2,3],[1,1], color='red', linewidth=2)\n",
    "\n",
    "#상태 문자열 표시\n",
    "plt.text(0.5, 2.5, 'S0', size=14, ha = 'center')\n",
    "plt.text(1.5, 2.5, 'S1', size=14, ha = 'center')\n",
    "plt.text(2.5, 2.5, 'S2', size=14, ha = 'center')\n",
    "plt.text(0.5, 1.5, 'S3', size=14, ha = 'center')\n",
    "plt.text(1.5, 1.5, 'S4', size=14, ha = 'center')\n",
    "plt.text(2.5, 1.5, 'S5', size=14, ha = 'center')\n",
    "plt.text(0.5, 0.5, 'S6', size=14, ha = 'center')\n",
    "plt.text(1.5, 0.5, 'S7', size=14, ha = 'center')\n",
    "plt.text(2.5, 0.5, 'S8', size=14, ha = 'center')\n",
    "\n",
    "# x,y축 범위 설정 및 눈금 제거\n",
    "ax.set_xlim(0,3)\n",
    "ax.set_ylim(0,3)\n",
    "plt.tick_params(axis='both', which='both',bottom=False, top=False, labelbottom=False, right=False, left=False, labelleft=False)\n",
    "\n",
    "#시작점 표시\n",
    "line, = ax.plot([0.5],[2.5], marker='o', color='g', markersize=55)"
   ]
  },
  {
   "cell_type": "markdown",
   "metadata": {},
   "source": [
    "### 에이전트 구현"
   ]
  },
  {
   "cell_type": "code",
   "execution_count": 12,
   "metadata": {},
   "outputs": [],
   "source": [
    "#정책을 결정하는 파라미터의 초깃값 theta_0을 설정\n",
    "#row - 상태0~7, col - 행동(상,우,하,좌)\n",
    "\n",
    "theta_0 = np.array([[np.nan, 1, 1, np.nan], #S0일 때 가능한 행동이면 1, 가능하지 않은 방향이면 nan\n",
    "                     [np.nan, 1, np.nan, 1], #S1\n",
    "                     [np.nan, np.nan, 1, 1], #S2\n",
    "                     [1, 1, 1 , np.nan], #S3\n",
    "                     [np.nan, np.nan, 1, 1], #4\n",
    "                     [1, np.nan, np.nan, np.nan], #S5\n",
    "                     [1, np.nan, np.nan, np.nan], #S6\n",
    "                     [1, 1, np.nan, np.nan] #S7\n",
    "                    ]) #S8은 목표지점이기 때문에 정책 없음"
   ]
  },
  {
   "cell_type": "code",
   "execution_count": 13,
   "metadata": {},
   "outputs": [],
   "source": [
    "#정책 파라미터 theta를 행동 정책 pi로 변환하는 함수\n",
    "\n",
    "def simple_convert_into_pi_from_theta(theta):\n",
    "    #단순히 값의 비율을 계산해 확률로 삼는 예시\n",
    "    [m,n] = theta.shape #theta의 행렬 크기를 구함\n",
    "    pi = np.zeros((m,n))\n",
    "    for i in range(0,m):\n",
    "        pi[i, :] = theta[i, :] / np.nansum(theta[i,:]) #비율계산\n",
    "    pi = np.nan_to_num(pi) #nan을 0으로 변환\n",
    "    \n",
    "    return pi"
   ]
  },
  {
   "cell_type": "code",
   "execution_count": 14,
   "metadata": {},
   "outputs": [
    {
     "name": "stdout",
     "output_type": "stream",
     "text": [
      "[[0.         0.5        0.5        0.        ]\n",
      " [0.         0.5        0.         0.5       ]\n",
      " [0.         0.         0.5        0.5       ]\n",
      " [0.33333333 0.33333333 0.33333333 0.        ]\n",
      " [0.         0.         0.5        0.5       ]\n",
      " [1.         0.         0.         0.        ]\n",
      " [1.         0.         0.         0.        ]\n",
      " [0.5        0.5        0.         0.        ]]\n"
     ]
    }
   ],
   "source": [
    "#초기 정책 pi_0을 계산\n",
    "pi_0 = simple_convert_into_pi_from_theta(theta_0)\n",
    "\n",
    "print(pi_0)"
   ]
  },
  {
   "cell_type": "code",
   "execution_count": 15,
   "metadata": {},
   "outputs": [],
   "source": [
    "#한 단계 이동 후의 상태 s_next를 계산하는 함수\n",
    "\n",
    "def get_next_s(pi, s):\n",
    "    direction = ['up', 'right', 'down', 'left']\n",
    "    next_direction = np.random.choice(direction, p=pi[s, :]) #pi [s,:]의 값에 따라 direction 값이 결정됨\n",
    "    \n",
    "    if next_direction == 'up':      s_next = s - 3\n",
    "    elif next_direction == 'right': s_next = s + 1\n",
    "    elif next_direction == 'down':  s_next = s + 3\n",
    "    elif next_direction == 'left':  s_next = s - 1\n",
    "    #next_direction에 따라 현재 상태가 변함\n",
    "    \n",
    "    return s_next"
   ]
  },
  {
   "cell_type": "code",
   "execution_count": 16,
   "metadata": {},
   "outputs": [],
   "source": [
    "#목표 지점에 이를 때까지 에이전트를 이동시키는 함수\n",
    "\n",
    "def goal_maze(pi):\n",
    "    s = 0 #시작 지점\n",
    "    state_history = [0]\n",
    "    \n",
    "    while(1):\n",
    "        next_s = get_next_s(pi,s)\n",
    "        state_history.append(next_s)\n",
    "        \n",
    "        if next_s == 8: break #목표지점에 이르면 while문 중단\n",
    "        else: s = next_s #아직 도달 안했으면 s 업데이트\n",
    "        \n",
    "    return state_history"
   ]
  },
  {
   "cell_type": "code",
   "execution_count": 17,
   "metadata": {},
   "outputs": [],
   "source": [
    "#실제로 경로 이동 히스토리 저장해보기\n",
    "state_history = goal_maze(pi_0)"
   ]
  },
  {
   "cell_type": "code",
   "execution_count": 18,
   "metadata": {
    "scrolled": true
   },
   "outputs": [
    {
     "name": "stdout",
     "output_type": "stream",
     "text": [
      "목표 지점에까지 걸린 단계의 수는 20단계 입니다.\n",
      "[0, 3, 6, 3, 6, 3, 6, 3, 0, 3, 0, 1, 0, 1, 0, 3, 6, 3, 4, 7, 8]\n"
     ]
    }
   ],
   "source": [
    "#결과 출력하기\n",
    "print('목표 지점에까지 걸린 단계의 수는 '+str(len(state_history)-1)+'단계 입니다.')\n",
    "print(state_history)"
   ]
  }
 ],
 "metadata": {
  "kernelspec": {
   "display_name": "Python 3",
   "language": "python",
   "name": "python3"
  },
  "language_info": {
   "codemirror_mode": {
    "name": "ipython",
    "version": 3
   },
   "file_extension": ".py",
   "mimetype": "text/x-python",
   "name": "python",
   "nbconvert_exporter": "python",
   "pygments_lexer": "ipython3",
   "version": "3.7.6"
  }
 },
 "nbformat": 4,
 "nbformat_minor": 4
}
