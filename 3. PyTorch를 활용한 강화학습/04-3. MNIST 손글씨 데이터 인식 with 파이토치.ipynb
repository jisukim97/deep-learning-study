{
 "cells": [
  {
   "cell_type": "code",
   "execution_count": 2,
   "metadata": {},
   "outputs": [],
   "source": [
    "import numpy as np\n",
    "\n",
    "#fetch_mldata -> openml로 변경되었지만 똑같은 데이터 형식 유지하기 (솜장 블로그 참고)\n",
    "def sort_by_target(mnist):\n",
    "    reorder_train = np.array(sorted([(target, i) for i, target in enumerate(mnist.target[:60000])]))[:, 1]\n",
    "    reorder_test = np.array(sorted([(target, i) for i, target in enumerate(mnist.target[60000:])]))[:, 1] \n",
    "    mnist.data[:60000] = mnist.data[reorder_train] \n",
    "    mnist.target[:60000] = mnist.target[reorder_train] \n",
    "    mnist.data[60000:] = mnist.data[reorder_test + 60000] \n",
    "    mnist.target[60000:] = mnist.target[reorder_test + 60000]\n",
    "\n",
    "try: \n",
    "    from sklearn.datasets import fetch_openml \n",
    "    mnist = fetch_openml('mnist_784', version=1, cache=True) \n",
    "    mnist.target = mnist.target.astype(np.int8) # fetch_openml() returns targets as strings \n",
    "    sort_by_target(mnist) # fetch_openml() returns an unsorted dataset \n",
    "except ImportError: \n",
    "    from sklearn.datasets import fetch_mldata \n",
    "    mnist = fetch_mldata('MNIST original')"
   ]
  },
  {
   "cell_type": "markdown",
   "metadata": {},
   "source": [
    "### 1. 데이터 전처리"
   ]
  },
  {
   "cell_type": "code",
   "execution_count": 14,
   "metadata": {
    "collapsed": true
   },
   "outputs": [
    {
     "name": "stdout",
     "output_type": "stream",
     "text": [
      "이 이미지 데이터의 레이블은 1\n"
     ]
    },
    {
     "data": {
      "image/png": "[encoded data removed]",
      "text/plain": [
       "<Figure size 432x288 with 1 Axes>"
      ]
     },
     "metadata": {
      "needs_background": "light"
     },
     "output_type": "display_data"
    }
   ],
   "source": [
    "#이미지 데이터와 레이블 데이터 분리, 정규화\n",
    "\n",
    "X = mnist.data / 255 #0~255의 값을 [0,1]구간의 값으로 정규화\n",
    "y = mnist.target\n",
    "\n",
    "import matplotlib.pyplot as plt\n",
    "\n",
    "#예시로 하나의 데이터를 시각화\n",
    "plt.imshow(X[7000].reshape(28,28), cmap = 'gray')\n",
    "print(\"이 이미지 데이터의 레이블은 {:.0f}\".format(y[7000]))"
   ]
  },
  {
   "cell_type": "markdown",
   "metadata": {},
   "source": [
    "### 2. DataLoader 생성\n",
    "- train data, test data로 분할\n",
    "- numpy배열을 tensor객체로 변환\n",
    "- dataset 객체 생성\n",
    "- dataset 객체를 DataLoader 객체로 변환"
   ]
  },
  {
   "cell_type": "code",
   "execution_count": 15,
   "metadata": {},
   "outputs": [],
   "source": [
    "import torch\n",
    "from torch.utils.data import TensorDataset, DataLoader\n",
    "from sklearn.model_selection import train_test_split"
   ]
  },
  {
   "cell_type": "code",
   "execution_count": 16,
   "metadata": {},
   "outputs": [],
   "source": [
    "#6:1비율로  트레인 데이터, 테스트 데이터 나누기\n",
    "X_train, X_test, y_train, y_test = train_test_split(X,y,test_size=1/7, random_state = 0)\n",
    "\n",
    "#데이터를 파이토치 텐서로 변환\n",
    "X_train = torch.Tensor(X_train)\n",
    "X_test = torch.Tensor(X_test)\n",
    "y_train = torch.LongTensor(y_train) #정수형 데이터는 longTensor 객체로\n",
    "y_test = torch.LongTensor(y_test)\n",
    "\n",
    "#데이터와 정답 레이블을 묶어 Dataset으로 만듦\n",
    "ds_train = TensorDataset(X_train, y_train)\n",
    "ds_test = TensorDataset(X_test, y_test)\n",
    "\n",
    "#미니배치 크기를 지정해 DataLoader객체로 변환\n",
    "loader_train = DataLoader(ds_train, batch_size=64, shuffle=True) #신경망의 결합가중치를 한번에 수정할 때 사용되는 데이터 건수 == 배치 사이즈\n",
    "loader_test = DataLoader(ds_test, batch_size=64, shuffle=False) #테스트 데이터는 굳이 섞을 필요 없음"
   ]
  },
  {
   "cell_type": "markdown",
   "metadata": {},
   "source": [
    "### 3. 신경망 구성"
   ]
  },
  {
   "cell_type": "code",
   "execution_count": 17,
   "metadata": {},
   "outputs": [
    {
     "name": "stdout",
     "output_type": "stream",
     "text": [
      "Sequential(\n",
      "  (fc1): Linear(in_features=784, out_features=100, bias=True)\n",
      "  (relu1): ReLU()\n",
      "  (fc2): Linear(in_features=100, out_features=100, bias=True)\n",
      "  (relu2): ReLU()\n",
      "  (fc3): Linear(in_features=100, out_features=10, bias=True)\n",
      ")\n"
     ]
    }
   ],
   "source": [
    "#케라스 스타일\n",
    "from torch import nn\n",
    "\n",
    "model = nn.Sequential()\n",
    "model.add_module('fc1', nn.Linear(28*28*1,100))\n",
    "model.add_module('relu1', nn.ReLU())\n",
    "model.add_module('fc2',nn.Linear(100,100))\n",
    "model.add_module('relu2',nn.ReLU())\n",
    "model.add_module('fc3', nn.Linear(100,10))\n",
    "\n",
    "print(model)"
   ]
  },
  {
   "cell_type": "markdown",
   "metadata": {},
   "source": [
    "### 4. 오차함수 및 최적화 기법 설정"
   ]
  },
  {
   "cell_type": "code",
   "execution_count": 18,
   "metadata": {},
   "outputs": [],
   "source": [
    "from torch import optim\n",
    "\n",
    "#오차 함수\n",
    "loss_fn = nn.CrossEntropyLoss()\n",
    "\n",
    "#최적화 함수 for가중치 학습\n",
    "optimizer = optim.Adam(model.parameters(),lr=0.01)"
   ]
  },
  {
   "cell_type": "markdown",
   "metadata": {},
   "source": [
    "### 5. 학습 및 추론 설정"
   ]
  },
  {
   "cell_type": "code",
   "execution_count": 19,
   "metadata": {},
   "outputs": [],
   "source": [
    "def train(epoch):\n",
    "    model.train() #신경망을 학습 모드로 전환\n",
    "    \n",
    "    #데이터 로더에서 미니배치를 하나씩 꺼내 학습 수행\n",
    "    for data, targets in loader_train:\n",
    "        optimizer.zero_grad() #경사를 0으로 초기화\n",
    "        outputs = model(data) #데이터 입력하고 출력을 계산\n",
    "        loss = loss_fn(outputs, targets) \n",
    "        loss.backward() #오차 역전파\n",
    "        optimizer.step() #역전파 값으로 가중치 수정\n",
    "    \n",
    "    print(\"epoch{}: 완료\\n\".format(epoch))"
   ]
  },
  {
   "cell_type": "code",
   "execution_count": 22,
   "metadata": {},
   "outputs": [],
   "source": [
    "def test():\n",
    "    model.eval() #신경망을 테스트 모드로 전환\n",
    "    correct = 0\n",
    "    \n",
    "    #데이터로더에서 미니 배치 하나씩 꺼내 테스트\n",
    "    with torch.no_grad(): #미분 없이\n",
    "        for data, targets in loader_test:\n",
    "            \n",
    "            outputs = model(data) #데이터 입력 후 출력 계산\n",
    "            \n",
    "            _, predicted = torch.max(outputs.data, 1) #확률이 가장 높은 레이블은 무엇\n",
    "            correct += predicted.eq(targets.data.view_as(predicted)).sum() #정답과 일치하면 정답 카운트 ++\n",
    "    \n",
    "    #accuracy\n",
    "    data_num = len(loader_test.dataset) #총 데이터 수\n",
    "    print(\"\\n 테스트 데이터 예측 정확도: {}/{} ({:.0f}%)\\n\".format(correct, data_num, 100.*correct/data_num))"
   ]
  },
  {
   "cell_type": "markdown",
   "metadata": {},
   "source": [
    "### 6.학습 및 추론 수행"
   ]
  },
  {
   "cell_type": "code",
   "execution_count": 23,
   "metadata": {},
   "outputs": [
    {
     "name": "stdout",
     "output_type": "stream",
     "text": [
      "\n",
      " 테스트 데이터 예측 정확도: 908/10000 (9%)\n",
      "\n"
     ]
    }
   ],
   "source": [
    "#학습 전, 테스트 데이터 정확도 측정\n",
    "test()"
   ]
  },
  {
   "cell_type": "code",
   "execution_count": 24,
   "metadata": {},
   "outputs": [
    {
     "name": "stdout",
     "output_type": "stream",
     "text": [
      "epoch0: 완료\n",
      "\n",
      "epoch1: 완료\n",
      "\n",
      "epoch2: 완료\n",
      "\n",
      "\n",
      " 테스트 데이터 예측 정확도: 9615/10000 (96%)\n",
      "\n"
     ]
    }
   ],
   "source": [
    "for epoch in range(3):\n",
    "    train(epoch)\n",
    "    \n",
    "test()"
   ]
  }
 ],
 "metadata": {
  "kernelspec": {
   "display_name": "Python 3",
   "language": "python",
   "name": "python3"
  },
  "language_info": {
   "codemirror_mode": {
    "name": "ipython",
    "version": 3
   },
   "file_extension": ".py",
   "mimetype": "text/x-python",
   "name": "python",
   "nbconvert_exporter": "python",
   "pygments_lexer": "ipython3",
   "version": "3.7.7"
  }
 },
 "nbformat": 4,
 "nbformat_minor": 4
}
