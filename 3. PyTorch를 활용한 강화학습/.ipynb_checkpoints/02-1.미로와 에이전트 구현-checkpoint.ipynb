{
 "cells": [
  {
   "cell_type": "code",
   "execution_count": 1,
   "metadata": {},
   "outputs": [],
   "source": [
    "import numpy as np\n",
    "import matplotlib.pyplot as plt"
   ]
  },
  {
   "cell_type": "markdown",
   "metadata": {},
   "source": [
    "### 미로 구현\n",
    "초기상태"
   ]
  },
  {
   "cell_type": "code",
   "execution_count": 2,
   "metadata": {},
   "outputs": [
    {
     "data": {
      "image/png": "[encoded data removed]",
      "text/plain": [
       "<Figure size 360x360 with 1 Axes>"
      ]
     },
     "metadata": {},
     "output_type": "display_data"
    }
   ],
   "source": [
    "fig = plt.figure(figsize=(5,5))\n",
    "ax = plt.gca()\n",
    "\n",
    "#붉은 벽 그리기\n",
    "plt.plot([1,1],[0,1], color='red', linewidth=2)\n",
    "plt.plot([1,2],[2,2], color='red', linewidth=2)\n",
    "plt.plot([2,2],[2,1], color='red', linewidth=2)\n",
    "plt.plot([2,3],[1,1], color='red', linewidth=2)\n",
    "\n",
    "#상태 문자열 표시\n",
    "plt.text(0.5, 2.5, 'S0', size=14, ha = 'center')\n",
    "plt.text(1.5, 2.5, 'S1', size=14, ha = 'center')\n",
    "plt.text(2.5, 2.5, 'S2', size=14, ha = 'center')\n",
    "plt.text(0.5, 1.5, 'S3', size=14, ha = 'center')\n",
    "plt.text(1.5, 1.5, 'S4', size=14, ha = 'center')\n",
    "plt.text(2.5, 1.5, 'S5', size=14, ha = 'center')\n",
    "plt.text(0.5, 0.5, 'S6', size=14, ha = 'center')\n",
    "plt.text(1.5, 0.5, 'S7', size=14, ha = 'center')\n",
    "plt.text(2.5, 0.5, 'S8', size=14, ha = 'center')\n",
    "\n",
    "# x,y축 범위 설정 및 눈금 제거\n",
    "ax.set_xlim(0,3)\n",
    "ax.set_ylim(0,3)\n",
    "plt.tick_params(axis='both', which='both',bottom=False, top=False, labelbottom=False, right=False, left=False, labelleft=False)\n",
    "\n",
    "#시작점 표시\n",
    "line, = ax.plot([0.5],[2.5], marker='o', color='g', markersize=55)"
   ]
  },
  {
   "cell_type": "markdown",
   "metadata": {},
   "source": [
    "### 에이전트 구현"
   ]
  },
  {
   "cell_type": "code",
   "execution_count": null,
   "metadata": {},
   "outputs": [],
   "source": []
  }
 ],
 "metadata": {
  "kernelspec": {
   "display_name": "Python 3",
   "language": "python",
   "name": "python3"
  },
  "language_info": {
   "codemirror_mode": {
    "name": "ipython",
    "version": 3
   },
   "file_extension": ".py",
   "mimetype": "text/x-python",
   "name": "python",
   "nbconvert_exporter": "python",
   "pygments_lexer": "ipython3",
   "version": "3.7.6"
  }
 },
 "nbformat": 4,
 "nbformat_minor": 4
}
