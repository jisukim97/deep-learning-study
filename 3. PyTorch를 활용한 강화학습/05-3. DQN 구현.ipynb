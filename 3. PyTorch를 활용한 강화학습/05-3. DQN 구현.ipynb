{
 "cells": [
  {
   "cell_type": "markdown",
   "metadata": {},
   "source": [
    "## (간단한) DQN 구현\n",
    "- Fixed Target Q-Network에서 target Q-Network 없이 미니 배치 사용\n",
    "- main-network각 단계의 transition을 메모리 객체에 저장, 여러 단계 분량에 해당하는 transition을 무작위로 몇 개 꺼낸 것이 '미니배치'"
   ]
  },
  {
   "cell_type": "code",
   "execution_count": 1,
   "metadata": {},
   "outputs": [],
   "source": [
    "import numpy as np\n",
    "import matplotlib.pyplot as plt\n",
    "import gym"
   ]
  },
  {
   "cell_type": "code",
   "execution_count": 2,
   "metadata": {},
   "outputs": [],
   "source": [
    "#애니메이션을 만드는 함수\n",
    "from JSAnimation.IPython_display import display_animation\n",
    "from matplotlib import animation\n",
    "from IPython.display import display\n",
    "\n",
    "def display_frames_as_gif(frames):\n",
    "    plt.figure(figsize=(frames[0].shape[1]/72.0, frames[0].shape[0]/72.0), dpi = 72)\n",
    "    patch = plt.imshow(frames[0])\n",
    "    plt.axis('off')\n",
    "    \n",
    "    def animate(i):\n",
    "        patch.set_data(frames[i])\n",
    "    \n",
    "    anim = animation.FuncAnimation(plt.gcf(), animate, frames = len(frames), interval = 50)\n",
    "    writergif = animation.PillowWriter(fps=30) \n",
    "    anim.save(\"movie_cartpole_DQN.gif\",writer=writergif)\n",
    "    display(display_animation(anim, default_mode='loop'))"
   ]
  },
  {
   "cell_type": "markdown",
   "metadata": {},
   "source": [
    "namedtuple 사용 예시"
   ]
  },
  {
   "cell_type": "code",
   "execution_count": 3,
   "metadata": {},
   "outputs": [
    {
     "name": "stdout",
     "output_type": "stream",
     "text": [
      "tr(name_a='이름A', value_b=100)\n",
      "100\n"
     ]
    }
   ],
   "source": [
    "#namedtuple <- 키를 필드명으로 값에 접근 가능\n",
    "from collections import namedtuple\n",
    "\n",
    "Tr = namedtuple('tr', ('name_a','value_b'))\n",
    "Tr_object = Tr('이름A', 100)\n",
    "\n",
    "print(Tr_object)\n",
    "print(Tr_object.value_b)"
   ]
  },
  {
   "cell_type": "markdown",
   "metadata": {},
   "source": [
    "### Transition namedtuple 선언 및 상수 정의"
   ]
  },
  {
   "cell_type": "code",
   "execution_count": 4,
   "metadata": {},
   "outputs": [],
   "source": [
    "from collections import namedtuple\n",
    "\n",
    "Transition = namedtuple('Transition', ('state','action','next_state','reward'))"
   ]
  },
  {
   "cell_type": "code",
   "execution_count": 5,
   "metadata": {},
   "outputs": [],
   "source": [
    "ENV = 'CartPole-v0'\n",
    "GAMMA = 0.99\n",
    "MAX_STEPS = 200\n",
    "NUM_EPISODES = 500"
   ]
  },
  {
   "cell_type": "markdown",
   "metadata": {},
   "source": [
    "### ReplayMemory 클래스 정의"
   ]
  },
  {
   "cell_type": "code",
   "execution_count": 6,
   "metadata": {},
   "outputs": [],
   "source": [
    "#transition을 저장하기 위한 메모리 클래스\n",
    "\n",
    "class ReplayMemory:\n",
    "    def __init__(self, CAPACITY):\n",
    "        self.capacity = CAPACITY #메모리 최대저장건수\n",
    "        self.memory = [] #실제 transition을 저장할 변수\n",
    "        self.index = 0 #저장 위치를 가리킬 인덱스 변수\n",
    "    \n",
    "    def push(self, state, action, state_next, reward): #transition 한덩이를 메모리에 저장\n",
    "        if len(self.memory) < self.capacity:\n",
    "            self.memory.append(None)\n",
    "        \n",
    "        self.memory[self.index] = Transition(state,action,state_next,reward)\n",
    "        self.index = (self.index+1) % self.capacity\n",
    "    \n",
    "    def sample(self, batch_size): #batch사이즈 만큼 무작위로 저장돼있는 transition추출\n",
    "        return random.sample(self.momory, batch_size)\n",
    "\n",
    "    def __len__(self): # 현재 저장된 transition개수 반환\n",
    "        return len(self.memory)"
   ]
  },
  {
   "cell_type": "markdown",
   "metadata": {},
   "source": [
    "### Brain 클래스 정의"
   ]
  },
  {
   "cell_type": "code",
   "execution_count": null,
   "metadata": {},
   "outputs": [],
   "source": [
    "#Q함수를 딥러닝 신경망 형태로 정의\n",
    "\n",
    "import random\n",
    "import torch\n",
    "from torch import nn\n",
    "from torch import optim\n",
    "import torch.nn.functional as F\n",
    "\n",
    "BATCH_SIZE = 32\n",
    "CAPACITY = 10000\n",
    "\n",
    "class Brain: \n",
    "    def __init__(self, num_states, num_actions): #초기화에서는 'action개수 구하기', '메모리 객체 생성','신경망 구성','최적화기법 선택'\n",
    "        self.num_actions = num_actions #행동의 가짓수 구함\n",
    "        \n",
    "        #transition저장을 위한 메모리 객체 생성\n",
    "        self.memory = ReplayMemory(CAPACITY)\n",
    "        \n",
    "        #신경망 구성\n",
    "        self.model = nn.Sequential()\n",
    "        self.model.add_module('fc1', nn.Linear(num_states, 32))\n",
    "        self.model.add_module('relu1', nn.ReLU())\n",
    "        self.model.add_module('fc2', nn.Linear(32,32))\n",
    "        self.model.add_module('relu2', nn.ReLU())\n",
    "        self.model.add_module('fx3', nn.Linear(32, num_actions))\n",
    "        print(self.model)\n",
    "        \n",
    "        #최적화기법 선택\n",
    "        self.optimizer = optim.Adam(self.model.parameters(), lr=0.0001)\n",
    "    \n",
    "    def replay(self):  #experience replay로 신경망 결합가중치 학습하기\n",
    "        \n",
    "        # 1.저장된 transitoin 수 확인 -> 배치 사이즈보다 작으면 아무것도 하지 않는다.\n",
    "        if len(self.memory) < BATCH_SIZE: return\n",
    "        \n",
    "        # 2. 미니 배치 생성\n",
    "        transitions = self.memory.sample(BATCH_SIZE) #메모리에서 미니배치 추출\n",
    "        # (state*BATCH_SIZE, action*BATCH_SIZE, state_next*BATCH_SIZE, reward*BATCH_SIZE) 형태로 변환\n",
    "        batch = Transition(*zip(*transitions))\n",
    "        \n",
    "        #각 변수의 요소를 미니배치에 맞게 변형, 신경망으로 다룰 수 있게 Variable로 만든다\n",
    "        state_batch = torch.cat(batch.state)\n",
    "        action_batch = torch.cat(batch.action)\n",
    "        reward_batch = torch.cat(batch.reward)\n",
    "        non_final_next_states= torch.cat([s for s in batch.next_state if s in not None])\n",
    "        \n",
    "        # 3. 정답 신호로 사용할 Q(s_t, a_t) 계산\n",
    "        # 신경망 추론 모드 on\n",
    "        self.model.eval()\n",
    "        \n",
    "        #신경망으로 Q(s_t, a_t) 계산\n",
    "        state_action_values = self.model(state_batch).gather(1, action_batch)\n",
    "        \n",
    "        # max{Q(s_t+1, a)} 값을 계산함. 다음 상태가 존재하는지 주의\n",
    "        non_final_mask = torch.ByteTensor(tuple(map(lambda s: s is not None, batch.next_state))) #done이 아니고 next_state가 존재하는지 \n",
    "        next_state_values = torch.zeros(BATCH_SIZE) #전체를 0으로 초기화 \n",
    "        next_state_values[non_final_mask] = self.model(non_final_next_states).max(1)[0].detach()\n",
    "        \n",
    "        # Q러닝 식으로 Q(s_t, a_t) 계산\n",
    "        expected_state_action_values = reward_batch + GAMMA*next_state_values\n",
    "        \n",
    "        # 4. 결합 가중치 수정\n",
    "        # 신경망 학습모드 on\n",
    "        self.model.train()\n",
    "        \n",
    "        #손실함수 계산\n",
    "        \n",
    "        "
   ]
  }
 ],
 "metadata": {
  "kernelspec": {
   "display_name": "Python 3",
   "language": "python",
   "name": "python3"
  },
  "language_info": {
   "codemirror_mode": {
    "name": "ipython",
    "version": 3
   },
   "file_extension": ".py",
   "mimetype": "text/x-python",
   "name": "python",
   "nbconvert_exporter": "python",
   "pygments_lexer": "ipython3",
   "version": "3.7.7"
  }
 },
 "nbformat": 4,
 "nbformat_minor": 4
}
